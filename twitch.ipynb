{
 "cells": [
  {
   "cell_type": "code",
   "execution_count": 1,
   "outputs": [],
   "source": [
    "from selenium import webdriver\n",
    "from selenium.webdriver.chrome.service import Service\n",
    "from selenium.webdriver.support.ui import WebDriverWait\n",
    "from selenium.webdriver.support import expected_conditions as EC\n",
    "from selenium.webdriver.common.by import By\n",
    "from time import sleep\n",
    "\n",
    "url = \"https://www.twitch.tv/mayprezotto/clip/SourThoughtfulPelicanJKanStyle-TP2AaNDk6iZL_ENM?filter=clips&range=7d&sort=time\"\n",
    "op = webdriver.FirefoxOptions()\n",
    "op.add_argument('--headless')\n",
    "service = Service(executable_path=\"./geckodriver.exe\")\n",
    "driver = webdriver.Firefox(service=service, options=op)\n",
    "driver.set_window_position(0, 0)\n",
    "driver.set_window_size(1920, 1080)\n",
    "driver.get(url)\n",
    "wait = WebDriverWait(driver, 60)\n",
    "sleep(5)"
   ],
   "metadata": {
    "collapsed": false,
    "pycharm": {
     "name": "#%%\n"
    }
   }
  },
  {
   "cell_type": "code",
   "execution_count": 2,
   "outputs": [
    {
     "name": "stdout",
     "output_type": "stream",
     "text": [
      "https://production.assets.clips.twitchcdn.net/AT-cm%7CPnvxEEz9gGjQ5OomS_xDTA.mp4?sig=a446664db0457e704b25aa660bd7b59b9ac902c5&token=%7B%22authorization%22%3A%7B%22forbidden%22%3Afalse%2C%22reason%22%3A%22%22%7D%2C%22clip_uri%22%3A%22https%3A%2F%2Fproduction.assets.clips.twitchcdn.net%2FAT-cm%257CPnvxEEz9gGjQ5OomS_xDTA.mp4%22%2C%22device_id%22%3A%222j9IFxUU075IiJdqX0fZlLasd26KI52j%22%2C%22expires%22%3A1654144227%2C%22user_id%22%3A%22%22%2C%22version%22%3A2%7D AHUAHAUHAU!! As call tao em dia! MayPrezotto\n"
     ]
    }
   ],
   "source": [
    "clip_url = driver.find_element(By.TAG_NAME, 'video').get_attribute('src')\n",
    "clip_title = driver.find_element(By.XPATH, \"//h2[@data-a-target = 'stream-title']\").text\n",
    "streamer_name = driver.find_element(By.XPATH, \"/html/body/div[1]/div/div[2]/div[1]/main/div[2]/div[3]/div/div/div[1]/div[1]/div[2]/div/div[1]/div/div[2]/div/div[2]/div[1]/div[1]/a/h1\").text\n",
    "print(clip_url, clip_title, streamer_name)"
   ],
   "metadata": {
    "collapsed": false,
    "pycharm": {
     "name": "#%%\n"
    }
   }
  },
  {
   "cell_type": "code",
   "execution_count": 5,
   "outputs": [
    {
     "data": {
      "text/plain": "('MayPrezotto_AHUAHAUHAU!! As call tao em dia!.mp4',\n <http.client.HTTPMessage at 0x2adfecf4a90>)"
     },
     "execution_count": 5,
     "metadata": {},
     "output_type": "execute_result"
    }
   ],
   "source": [
    "import urllib.request\n",
    "urllib.request.urlretrieve(clip_url, f'{streamer_name}_{clip_title}.mp4')"
   ],
   "metadata": {
    "collapsed": false,
    "pycharm": {
     "name": "#%%\n"
    }
   }
  },
  {
   "cell_type": "code",
   "execution_count": 10,
   "outputs": [
    {
     "name": "stdout",
     "output_type": "stream",
     "text": [
      "<re.Match object; span=(12, 18), match='twitch'>\n"
     ]
    }
   ],
   "source": [
    "import re\n",
    "\n",
    "txt = \"https://www.twitch.tv/mayprezotto/clip/SourThoughtfulPelicanJKanStyle-TP2AaNDk6iZL_ENM?filter=clips&range=7d&sort=time\"\n",
    "x = re.search(\"twitch\", txt)\n",
    "print(x)"
   ],
   "metadata": {
    "collapsed": false,
    "pycharm": {
     "name": "#%%\n"
    }
   }
  }
 ],
 "metadata": {
  "kernelspec": {
   "display_name": "Python 3",
   "language": "python",
   "name": "python3"
  },
  "language_info": {
   "codemirror_mode": {
    "name": "ipython",
    "version": 2
   },
   "file_extension": ".py",
   "mimetype": "text/x-python",
   "name": "python",
   "nbconvert_exporter": "python",
   "pygments_lexer": "ipython2",
   "version": "2.7.6"
  }
 },
 "nbformat": 4,
 "nbformat_minor": 0
}